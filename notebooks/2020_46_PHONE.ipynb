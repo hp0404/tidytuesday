{
 "cells": [
  {
   "cell_type": "markdown",
   "metadata": {},
   "source": [
    "# Barplot"
   ]
  },
  {
   "cell_type": "code",
   "execution_count": 1,
   "metadata": {},
   "outputs": [],
   "source": [
    "import numpy as np\n",
    "import pandas as pd\n",
    "import matplotlib.pyplot as plt\n",
    "import matplotlib.patches as mpatches"
   ]
  },
  {
   "cell_type": "code",
   "execution_count": 2,
   "metadata": {},
   "outputs": [],
   "source": [
    "mobile = pd.read_csv(\"https://raw.githubusercontent.com/rfordatascience/tidytuesday/master/data/2020/2020-11-10/mobile.csv\")\n",
    "landline = pd.read_csv(\"https://raw.githubusercontent.com/rfordatascience/tidytuesday/master/data/2020/2020-11-10/landline.csv\")"
   ]
  },
  {
   "cell_type": "code",
   "execution_count": 3,
   "metadata": {},
   "outputs": [],
   "source": [
    "data = pd.merge(\n",
    "    landline, mobile,\n",
    "    how=\"outer\", on=[\"code\", \"year\", \"entity\", \"continent\", \"gdp_per_cap\"]\n",
    ")"
   ]
  },
  {
   "cell_type": "code",
   "execution_count": 4,
   "metadata": {},
   "outputs": [],
   "source": [
    "df = data.loc[\n",
    "    data[\"code\"].eq(\"UKR\") & data[\"mobile_subs\"].notnull(), \n",
    "    [\"year\", \"landline_subs\", \"mobile_subs\"]\n",
    "]"
   ]
  },
  {
   "cell_type": "code",
   "execution_count": 5,
   "metadata": {},
   "outputs": [],
   "source": [
    "colors = {\"landline_subs\": \"#EEE8A9\", \"mobile_subs\": \"#009bda\"}"
   ]
  },
  {
   "cell_type": "code",
   "execution_count": 27,
   "metadata": {},
   "outputs": [
    {
     "data": {
      "image/png": "[encoded data removed]",
      "text/plain": [
       "<Figure size 1296x648 with 1 Axes>"
      ]
     },
     "metadata": {
      "needs_background": "light"
     },
     "output_type": "display_data"
    }
   ],
   "source": [
    "fig, ax = plt.subplots(1, 1, figsize=(18,9))\n",
    "\n",
    "ax.bar(df[\"year\"], df[\"mobile_subs\"], color=colors.get(\"mobile_subs\"), label=\"mobile_subs\", tick_label=df[\"year\"])\n",
    "ax.bar(df[\"year\"], df[\"landline_subs\"], color=colors.get(\"landline_subs\"), label=\"landline_subs\", alpha=0.8)\n",
    "\n",
    "ax.spines['top'].set_visible(False)\n",
    "ax.spines['right'].set_visible(False)\n",
    "ax.tick_params(bottom=False, left=False)\n",
    "ax.yaxis.grid(True, color='#EEEEEE')\n",
    "\n",
    "plt.ylabel('Number of subscriptions per 100 people')\n",
    "\n",
    "\n",
    "fig.suptitle(\"Landline & Mobile subscriptions in Ukraine\", fontsize=20, fontweight='bold',x=0.125,ha='left')\n",
    "handles = [mpatches.Patch(color=colors.get(t), label=t.split(\"_\")[0].title()) for t in df.iloc[:, 1:].columns]\n",
    "fig.legend(handles=handles,loc=9,ncol=4,frameon=False,bbox_to_anchor=(0.005, 0.45, 0.36, 0.49))\n",
    "fig.savefig('../figures/mobile_ukr_hist.png', dpi = 300, bbox_inches = 'tight', pad_inches=0.3, transparent=False)"
   ]
  },
  {
   "cell_type": "markdown",
   "metadata": {},
   "source": [
    "---"
   ]
  },
  {
   "cell_type": "markdown",
   "metadata": {},
   "source": [
    "# PyWaffle"
   ]
  },
  {
   "cell_type": "code",
   "execution_count": 6,
   "metadata": {},
   "outputs": [],
   "source": [
    "import math\n",
    "from pywaffle import Waffle"
   ]
  },
  {
   "cell_type": "code",
   "execution_count": 7,
   "metadata": {},
   "outputs": [
    {
     "data": {
      "text/html": [
       "<div>\n",
       "<style scoped>\n",
       "    .dataframe tbody tr th:only-of-type {\n",
       "        vertical-align: middle;\n",
       "    }\n",
       "\n",
       "    .dataframe tbody tr th {\n",
       "        vertical-align: top;\n",
       "    }\n",
       "\n",
       "    .dataframe thead th {\n",
       "        text-align: right;\n",
       "    }\n",
       "</style>\n",
       "<table border=\"1\" class=\"dataframe\">\n",
       "  <thead>\n",
       "    <tr style=\"text-align: right;\">\n",
       "      <th></th>\n",
       "      <th>mobile_subs</th>\n",
       "      <th>non_subs</th>\n",
       "    </tr>\n",
       "    <tr>\n",
       "      <th>year</th>\n",
       "      <th></th>\n",
       "      <th></th>\n",
       "    </tr>\n",
       "  </thead>\n",
       "  <tbody>\n",
       "    <tr>\n",
       "      <th>1995</th>\n",
       "      <td>0.027502</td>\n",
       "      <td>99.972498</td>\n",
       "    </tr>\n",
       "    <tr>\n",
       "      <th>2005</th>\n",
       "      <td>64.005365</td>\n",
       "      <td>35.994635</td>\n",
       "    </tr>\n",
       "    <tr>\n",
       "      <th>2015</th>\n",
       "      <td>143.983655</td>\n",
       "      <td>0.000000</td>\n",
       "    </tr>\n",
       "  </tbody>\n",
       "</table>\n",
       "</div>"
      ],
      "text/plain": [
       "      mobile_subs   non_subs\n",
       "year                        \n",
       "1995     0.027502  99.972498\n",
       "2005    64.005365  35.994635\n",
       "2015   143.983655   0.000000"
      ]
     },
     "execution_count": 7,
     "metadata": {},
     "output_type": "execute_result"
    }
   ],
   "source": [
    "years = [1995,2005,2015]\n",
    "\n",
    "data = df.loc[df[\"year\"].isin(years)]\n",
    "waffle = (\n",
    "    data.assign(\n",
    "        non_subs=np.where(\n",
    "            data[\"mobile_subs\"]<100, \n",
    "            100-data[\"mobile_subs\"], \n",
    "            0\n",
    "        )\n",
    "    )\n",
    "    .set_index(\"year\")\n",
    "    .loc[:, [\"mobile_subs\", \"non_subs\"]]\n",
    ")\n",
    "waffle"
   ]
  },
  {
   "cell_type": "code",
   "execution_count": 8,
   "metadata": {},
   "outputs": [],
   "source": [
    "plots_container = {}\n",
    "for ax, year in zip((\"313\", \"312\", \"311\"), years):\n",
    "    _df = waffle.loc[year, [\"mobile_subs\", \"non_subs\"]]\n",
    "    \n",
    "    values = _df.values\n",
    "    max_subs = math.ceil(_df[\"mobile_subs\"].max())\n",
    "    \n",
    "    plots = {\n",
    "        \"values\": values,\n",
    "        \"title\": {\n",
    "            \"label\": f\"{year}: {max_subs} mobile subscribers per 100 people\",\n",
    "            \"loc\": \"left\"\n",
    "        }\n",
    "    }\n",
    "    plots_container[ax] = plots"
   ]
  },
  {
   "cell_type": "code",
   "execution_count": 9,
   "metadata": {},
   "outputs": [
    {
     "data": {
      "text/plain": [
       "{'313': {'values': array([2.75018442e-02, 9.99724982e+01]),\n",
       "  'title': {'label': '1995: 1 mobile subscribers per 100 people',\n",
       "   'loc': 'left'}},\n",
       " '312': {'values': array([64.00536482, 35.99463518]),\n",
       "  'title': {'label': '2005: 65 mobile subscribers per 100 people',\n",
       "   'loc': 'left'}},\n",
       " '311': {'values': array([143.98365541,   0.        ]),\n",
       "  'title': {'label': '2015: 144 mobile subscribers per 100 people',\n",
       "   'loc': 'left'}}}"
      ]
     },
     "execution_count": 9,
     "metadata": {},
     "output_type": "execute_result"
    }
   ],
   "source": [
    "plots_container"
   ]
  },
  {
   "cell_type": "code",
   "execution_count": 11,
   "metadata": {},
   "outputs": [
    {
     "data": {
      "image/png": "[encoded data removed]",
      "text/plain": [
       "<Waffle size 648x360 with 3 Axes>"
      ]
     },
     "metadata": {
      "needs_background": "light"
     },
     "output_type": "display_data"
    }
   ],
   "source": [
    "fig = plt.figure(\n",
    "    FigureClass=Waffle,\n",
    "    plots=plots_container,\n",
    "    rows=5,\n",
    "    colors=(\"#009bda\",\"#969696\"),\n",
    "    figsize=(9, 5) \n",
    ")\n",
    "\n",
    "notes = [\"How the subscriber base \\nhas increased over the years \\nin Ukraine\", \"Using PyWaffle, \\n#TidyTuesday\"]\n",
    "loc = [0.5, 0.18]\n",
    "\n",
    "for note, y in zip(notes, loc):\n",
    "    fig.text(\n",
    "        x=0.72,\n",
    "        y=y,\n",
    "        s=note,\n",
    "        ha=\"center\",\n",
    "        va=\"center\",\n",
    "        rotation=0,\n",
    "        fontsize=11,\n",
    "        color='black',\n",
    "        alpha=0.8,\n",
    "    )\n",
    "    \n",
    "fig.savefig('../figures/mobile_ukr.png', dpi = 300, bbox_inches = 'tight', pad_inches=0.3, transparent=False)"
   ]
  }
 ],
 "metadata": {
  "kernelspec": {
   "display_name": "Python 3",
   "language": "python",
   "name": "python3"
  },
  "language_info": {
   "codemirror_mode": {
    "name": "ipython",
    "version": 3
   },
   "file_extension": ".py",
   "mimetype": "text/x-python",
   "name": "python",
   "nbconvert_exporter": "python",
   "pygments_lexer": "ipython3",
   "version": "3.8.5"
  }
 },
 "nbformat": 4,
 "nbformat_minor": 4
}
